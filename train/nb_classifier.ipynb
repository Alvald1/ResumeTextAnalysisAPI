{
 "cells": [
  {
   "cell_type": "code",
   "execution_count": 1,
   "id": "4de662db-2318-4d9f-9dc6-d6a70f2cb7e7",
   "metadata": {
    "id": "4de662db-2318-4d9f-9dc6-d6a70f2cb7e7"
   },
   "outputs": [],
   "source": [
    "from sklearn.feature_extraction.text import TfidfVectorizer\n",
    "import pandas as pd\n",
    "import numpy as np\n",
    "from collections import Counter\n",
    "\n",
    "from nltk.tokenize import WordPunctTokenizer\n",
    "from sklearn.model_selection import train_test_split\n",
    "from sklearn.metrics import roc_auc_score, roc_curve, accuracy_score, recall_score\n",
    "import pickle\n",
    "\n",
    "import matplotlib.pyplot as plt\n",
    "\n",
    "%matplotlib inline"
   ]
  },
  {
   "cell_type": "markdown",
   "id": "cdf61cc2-ecc1-4734-96e3-61d19e122962",
   "metadata": {
    "id": "cdf61cc2-ecc1-4734-96e3-61d19e122962"
   },
   "source": [
    "TF-iDF vectorizer wrapper class for end-to-end vectorization:"
   ]
  },
  {
   "cell_type": "code",
   "execution_count": 2,
   "id": "479d11a6-8ae5-4a97-bbf8-54e5a986bf9b",
   "metadata": {
    "id": "479d11a6-8ae5-4a97-bbf8-54e5a986bf9b"
   },
   "outputs": [],
   "source": [
    "class Vectorizer:\n",
    "    def __init__(self, k=10000):\n",
    "        self.vectorizer = TfidfVectorizer()\n",
    "        self.vocab = None\n",
    "        self.k = k\n",
    "\n",
    "    def fit(self, texts):\n",
    "        self.k = min(self.k, len(set(\" \".join(texts).split())))\n",
    "\n",
    "        self.vectorizer.fit(texts)\n",
    "        counts = Counter(' '.join(texts).split())\n",
    "        self.vocab = [key for key, val in counts.most_common(self.k)]\n",
    "\n",
    "    def transform(self, texts):\n",
    "        return self.vectorizer.transform(texts)\n",
    "\n",
    "    def fit_transform(self, texts):\n",
    "        self.fit(texts)\n",
    "        return self.transform(texts)\n",
    "\n",
    "    def get_tf_idf(self, texts):\n",
    "        vectorized = self.transform(texts)\n",
    "        names = self.vectorizer.get_feature_names_out()\n",
    "\n",
    "        return self.tfidf_in_vocab(vectorized, names)\n",
    "\n",
    "    def tfidf_in_vocab(self, vectorized, names):\n",
    "        df = pd.DataFrame(vectorized.todense(), columns=names)\n",
    "        sent_matr = df.drop(list(df.columns.difference(self.vocab)), axis=1)\n",
    "        res_matr = np.zeros((sent_matr.shape[0], len(self.vocab)))\n",
    "        for i, token in enumerate(self.vocab):\n",
    "            if token in sent_matr.columns:\n",
    "                res_matr[:, i] = sent_matr[token].to_numpy()\n",
    "        return res_matr"
   ]
  },
  {
   "cell_type": "markdown",
   "id": "eb944192-54d2-413c-a5f5-cafe5871e11b",
   "metadata": {
    "id": "eb944192-54d2-413c-a5f5-cafe5871e11b"
   },
   "source": [
    "A little function to visualize training results:"
   ]
  },
  {
   "cell_type": "code",
   "execution_count": 3,
   "id": "6f5a44ae-89c4-44f7-af10-82c1f6d0eafe",
   "metadata": {
    "id": "6f5a44ae-89c4-44f7-af10-82c1f6d0eafe"
   },
   "outputs": [],
   "source": [
    "def visualize_and_save_results(\n",
    "    model, model_name, X_train, X_test, y_train, y_test, out_dict\n",
    "):\n",
    "    for data_name, X, y, model in [\n",
    "        (\"train\", X_train, y_train, model),\n",
    "        (\"test\", X_test, y_test, model),\n",
    "    ]:\n",
    "        proba = model.predict_proba(X)[:, 1]\n",
    "\n",
    "        auc = roc_auc_score(y, proba)\n",
    "\n",
    "        out_dict[f\"{model_name}_{data_name}\"] = auc\n",
    "        plt.plot(*roc_curve(y, proba)[:2], label=\"{} AUC={:.4f}\".format(data_name, auc))\n",
    "\n",
    "    plt.plot(\n",
    "        [0, 1],\n",
    "        [0, 1],\n",
    "        \"--\",\n",
    "        color=\"black\",\n",
    "    )\n",
    "    plt.legend(fontsize=\"large\")\n",
    "    plt.title(model_name)\n",
    "    plt.grid()\n",
    "    return out_dict"
   ]
  },
  {
   "cell_type": "markdown",
   "id": "903dff55-fd1e-41ef-9f3a-9453453017bb",
   "metadata": {
    "id": "903dff55-fd1e-41ef-9f3a-9453453017bb"
   },
   "source": [
    "NB classifier with posterior Multinomial distribution to classify TF-iDF vectors:"
   ]
  },
  {
   "cell_type": "code",
   "execution_count": 4,
   "id": "a4ed5192-055e-4172-aeab-28544e35b98e",
   "metadata": {
    "id": "a4ed5192-055e-4172-aeab-28544e35b98e"
   },
   "outputs": [],
   "source": [
    "from sklearn.naive_bayes import MultinomialNB\n",
    "\n",
    "clf_nb_tfidf = MultinomialNB()"
   ]
  },
  {
   "cell_type": "code",
   "execution_count": 5,
   "id": "5e07edf6-35f6-426e-8f64-7b69b9ec120b",
   "metadata": {
    "id": "5e07edf6-35f6-426e-8f64-7b69b9ec120b"
   },
   "outputs": [],
   "source": [
    "# A litte preprocess function for the texts\n",
    "preprocess = lambda text: ' '.join(WordPunctTokenizer().tokenize(text.lower()))"
   ]
  },
  {
   "cell_type": "code",
   "execution_count": 6,
   "id": "22ad4dca-e656-41b4-a082-4ec67ec82966",
   "metadata": {
    "id": "22ad4dca-e656-41b4-a082-4ec67ec82966"
   },
   "outputs": [],
   "source": [
    "df_with_texts_and_labels = pd.read_csv('texts.csv')"
   ]
  },
  {
   "cell_type": "code",
   "execution_count": 7,
   "id": "4b20d44e-f91d-4a1b-add9-ddccc02bf105",
   "metadata": {
    "id": "4b20d44e-f91d-4a1b-add9-ddccc02bf105"
   },
   "outputs": [],
   "source": [
    "X_train, X_test, y_train, y_test = train_test_split(df_with_texts_and_labels['text'],\n",
    "                                                    df_with_texts_and_labels['substantive'],\n",
    "                                                    test_size = 0.2, random_state=42)\n",
    "\n",
    "X_train = X_train.apply(preprocess).tolist()\n",
    "X_test = X_test.apply(preprocess).tolist()\n",
    "\n",
    "all_texts = df_with_texts_and_labels['text'].apply(preprocess).tolist()"
   ]
  },
  {
   "cell_type": "code",
   "execution_count": 8,
   "id": "600ea638-0140-42a0-b451-5032b5780a79",
   "metadata": {
    "id": "600ea638-0140-42a0-b451-5032b5780a79"
   },
   "outputs": [],
   "source": [
    "vectorizer = Vectorizer()\n",
    "vectorizer.fit(all_texts)\n",
    "\n",
    "X_train_tfidf = vectorizer.get_tf_idf(X_train)\n",
    "X_test_tfidf = vectorizer.get_tf_idf(X_test)"
   ]
  },
  {
   "cell_type": "code",
   "execution_count": 9,
   "id": "a48cb3f3-6ff1-4a6c-ae33-823ae106f708",
   "metadata": {
    "id": "a48cb3f3-6ff1-4a6c-ae33-823ae106f708"
   },
   "outputs": [],
   "source": [
    "clf_nb_tfidf.fit(X_train_tfidf, y_train)\n",
    "\n",
    "train_preds = clf_nb_tfidf.predict(X_train_tfidf)\n",
    "test_preds = clf_nb_tfidf.predict(X_test_tfidf)"
   ]
  },
  {
   "cell_type": "code",
   "execution_count": 10,
   "id": "debae13a-e663-495c-8ba2-6ec71692a2a6",
   "metadata": {},
   "outputs": [
    {
     "name": "stdout",
     "output_type": "stream",
     "text": [
      "0.9117647058823529\n",
      "0.8235294117647058\n"
     ]
    }
   ],
   "source": [
    "print(accuracy_score(y_test.to_numpy(), test_preds))\n",
    "print(recall_score(y_test.to_numpy(), test_preds))"
   ]
  },
  {
   "cell_type": "code",
   "execution_count": 11,
   "id": "e5bcb3c4-f5d7-41f7-b7b5-5db1a2e6255a",
   "metadata": {},
   "outputs": [
    {
     "data": {
      "text/plain": [
       "{'NB_Multinomial_tfidf_train': np.float64(0.99978369024443),\n",
       " 'NB_Multinomial_tfidf_test': np.float64(0.9100346020761245)}"
      ]
     },
     "execution_count": 11,
     "metadata": {},
     "output_type": "execute_result"
    },
    {
     "data": {
      "image/png": "[encoded data removed]",
      "text/plain": [
       "<Figure size 640x480 with 1 Axes>"
      ]
     },
     "metadata": {},
     "output_type": "display_data"
    }
   ],
   "source": [
    "out_dict = {}\n",
    "visualize_and_save_results(clf_nb_tfidf, \"NB_Multinomial_tfidf\", \n",
    "                           X_train_tfidf, X_test_tfidf, y_train, y_test, out_dict)"
   ]
  },
  {
   "cell_type": "markdown",
   "id": "C4pyHF6nxDJU",
   "metadata": {
    "id": "C4pyHF6nxDJU"
   },
   "source": [
    "Save the model and vectorizer:"
   ]
  },
  {
   "cell_type": "code",
   "execution_count": 12,
   "id": "4ddZoTn0w0gO",
   "metadata": {
    "id": "4ddZoTn0w0gO"
   },
   "outputs": [],
   "source": [
    "with open('../model.pickle', 'wb') as f:\n",
    "    pickle.dump(clf_nb_tfidf, f)\n",
    "\n",
    "with open('../vectorizer.pickle', 'wb') as f:\n",
    "    pickle.dump(vectorizer, f)"
   ]
  }
 ],
 "metadata": {
  "colab": {
   "provenance": []
  },
  "kernelspec": {
   "display_name": "Python 3 (ipykernel)",
   "language": "python",
   "name": "python3"
  },
  "language_info": {
   "codemirror_mode": {
    "name": "ipython",
    "version": 3
   },
   "file_extension": ".py",
   "mimetype": "text/x-python",
   "name": "python",
   "nbconvert_exporter": "python",
   "pygments_lexer": "ipython3",
   "version": "3.13.2"
  }
 },
 "nbformat": 4,
 "nbformat_minor": 5
}
